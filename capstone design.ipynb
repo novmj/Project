{
 "cells": [
  {
   "cell_type": "markdown",
   "id": "d3e535ad",
   "metadata": {},
   "source": [
    "## Yolo 기본 세팅 및 다운"
   ]
  },
  {
   "cell_type": "code",
   "execution_count": null,
   "id": "470a0d86",
   "metadata": {},
   "outputs": [],
   "source": [
    "# yolov5 다운로드\n",
    "#!git clone https://github.com/ultralytics/yolov5"
   ]
  },
  {
   "cell_type": "code",
   "execution_count": null,
   "id": "e5ffa6a3",
   "metadata": {},
   "outputs": [],
   "source": [
    "#cd yolov5"
   ]
  },
  {
   "cell_type": "code",
   "execution_count": null,
   "id": "1737f109",
   "metadata": {},
   "outputs": [],
   "source": [
    "#!pip install -r requirements.txt"
   ]
  },
  {
   "cell_type": "markdown",
   "id": "710a8494",
   "metadata": {},
   "source": [
    "## ㅇㅇ"
   ]
  },
  {
   "cell_type": "code",
   "execution_count": null,
   "id": "966bea21",
   "metadata": {
    "scrolled": true
   },
   "outputs": [],
   "source": [
    "import torch\n",
    "model = torch.hub.load(\"ultralytics/yolov5\", \"yolov5s\")\n",
    "#from torchvision.models import yolov5s\n",
    "#model = yolov5s"
   ]
  },
  {
   "cell_type": "code",
   "execution_count": null,
   "id": "9f2b0208",
   "metadata": {},
   "outputs": [],
   "source": [
    "#print(torch.__version__)"
   ]
  },
  {
   "cell_type": "code",
   "execution_count": null,
   "id": "7e641eea",
   "metadata": {},
   "outputs": [],
   "source": [
    "import openai\n",
    "openai.api_key = \""\n",
    "messages = [{\"role\": \"system\", \"content\": \"You are a helpful assistant.\"}]"
   ]
  },
  {
   "cell_type": "code",
   "execution_count": null,
   "id": "e41d4f87",
   "metadata": {},
   "outputs": [],
   "source": [
    "import time\n",
    "from mutagen.mp3 import MP3\n",
    "from gtts import gTTS\n",
    "import speech_recognition as sr\n",
    "from pygame import mixer\n",
    "import sys\n",
    "#import IPython.display as ipd"
   ]
  },
  {
   "cell_type": "code",
   "execution_count": null,
   "id": "487751a4",
   "metadata": {},
   "outputs": [],
   "source": [
    "def recognize_speech():\n",
    "    r = sr.Recognizer()\n",
    "    result = None\n",
    "    while result is None:\n",
    "        try:\n",
    "            with sr.Microphone() as source:\n",
    "                print(\"질문 하세요\")\n",
    "                audio = r.listen(source)\n",
    "                result = r.recognize_google(audio, language=\"ko-KR\")\n",
    "                print(\"Ques :\",result)\n",
    "                \n",
    "        except sr.UnknownValueError:\n",
    "            print(\"음성을 이해하지 못했습니다. 다시 시도해주세요.\")\n",
    "        except sr.RequestError as e:\n",
    "            print(\"구글 스피치 인식 서비스에 접근할 수 없습니다. 다시 시도해주세요.\")\n",
    "    return result"
   ]
  },
  {
   "cell_type": "code",
   "execution_count": null,
   "id": "46cfd316",
   "metadata": {},
   "outputs": [],
   "source": [
    "def generate_response(ques):\n",
    "    messages.append({\"role\" : \"user\", \"content\" : f\"{ques}\"})\n",
    "    response = openai.ChatCompletion.create(model=\"gpt-3.5-turbo\", messages = messages)\n",
    "    answ = response.choices[0].message[\"content\"].strip()\n",
    "    messages.append({\"role\": \"assistant\", \"content\": f\"{answ}\"})\n",
    "    return answ"
   ]
  },
  {
   "cell_type": "code",
   "execution_count": null,
   "id": "87e3bdec",
   "metadata": {},
   "outputs": [],
   "source": [
    "def speak(text):\n",
    "    tts = gTTS(text=text, lang='ko')\n",
    "    tts.save('answer.mp3')"
   ]
  },
  {
   "cell_type": "code",
   "execution_count": null,
   "id": "d172c8ec",
   "metadata": {
    "scrolled": true
   },
   "outputs": [],
   "source": [
    "import cv2\n",
    "import numpy as np\n",
    "\n",
    "def main():\n",
    "    capture = cv2.VideoCapture(0)\n",
    "    capture.set(3, 720)\n",
    "    capture.set(4, 1080)\n",
    "\n",
    "    exit_program = False    \n",
    "    while True:\n",
    "\n",
    "        ret, frame = capture.read()\n",
    "        if not ret: break\n",
    "\n",
    "        cv2.imshow('test', frame)\n",
    "        k = cv2.waitKey(1)\n",
    "        results = model(frame)\n",
    "        #if 'person' in results.pandas().xyxy[0]['name'].tolist():\n",
    "        if any(label == 'person' and confidence >= 0.6 for label, confidence in zip(results.pandas().xyxy[0]['name'],\n",
    "                                                                                    results.pandas().xyxy[0]['confidence'])):\n",
    "            loop = False\n",
    "            while not loop:\n",
    "                ques = recognize_speech()\n",
    "\n",
    "                if ques == \"대화 종료\" or ques == \"대화종료\":\n",
    "                    print(\"대화를 종료합니다.\")\n",
    "                    loop = True\n",
    "\n",
    "                elif ques == \"프로그램 종료\" or ques == \"프로그램종료\":\n",
    "                    exit_program = True\n",
    "                    break\n",
    "\n",
    "                else:\n",
    "                    answ = generate_response(ques)\n",
    "                    answ2 = speak(answ)\n",
    "                    audio = MP3(\"answer.mp3\")\n",
    "                    length = audio.info.length\n",
    "                    #ipd.display(ipd.Audio('answer.mp3', autoplay=True))\n",
    "                    mixer.init()\n",
    "                    mixer.music.load('answer.mp3')\n",
    "                    mixer.music.play()\n",
    "                    print(\"Answer:\", answ)\n",
    "                    time.sleep(length)\n",
    "        if exit_program:\n",
    "            break\n",
    "\n",
    "        elif k == 27:\n",
    "            break\n",
    "\n",
    "    capture.release()\n",
    "    cv2.destroyAllWindows()\n",
    "    \n",
    "if __name__ == \"__main__\":\n",
    "    main()"
   ]
  },
  {
   "cell_type": "code",
   "execution_count": null,
   "id": "f2348e27",
   "metadata": {},
   "outputs": [],
   "source": [
    "#results.pandas().xyxy[0]"
   ]
  }
 ],
 "metadata": {
  "kernelspec": {
   "display_name": "Python 3 (ipykernel)",
   "language": "python",
   "name": "python3"
  },
  "language_info": {
   "codemirror_mode": {
    "name": "ipython",
    "version": 3
   },
   "file_extension": ".py",
   "mimetype": "text/x-python",
   "name": "python",
   "nbconvert_exporter": "python",
   "pygments_lexer": "ipython3",
   "version": "3.9.7"
  }
 },
 "nbformat": 4,
 "nbformat_minor": 5
}
